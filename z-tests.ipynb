{
 "cells": [
  {
   "cell_type": "code",
   "execution_count": 1,
   "metadata": {},
   "outputs": [],
   "source": [
    "import numpy as np\n",
    "import seaborn as sns\n",
    "import scipy.stats as stats\n",
    "from statsmodels.stats.weightstats import DescrStatsW, CompareMeans\n",
    "\n",
    "sns.set()"
   ]
  },
  {
   "cell_type": "markdown",
   "metadata": {},
   "source": [
    "*Надеюсь, случайные значения сильно не скакнут при генерации и мои выводы останутся справедливы)*"
   ]
  },
  {
   "cell_type": "code",
   "execution_count": 2,
   "metadata": {},
   "outputs": [],
   "source": [
    "np.random.seed(666)"
   ]
  },
  {
   "cell_type": "markdown",
   "metadata": {},
   "source": [
    "### Расчёт p-value"
   ]
  },
  {
   "cell_type": "markdown",
   "metadata": {},
   "source": [
    "Чтобы дальше не обращаться несколько раз к проблеме право/лево/двусторонней гипотезы, введу функцию для расчёта p-value по известному z-score. Регион в аргументе соответствует критической области гипотезы."
   ]
  },
  {
   "cell_type": "code",
   "execution_count": 3,
   "metadata": {},
   "outputs": [],
   "source": [
    "# region = critical region responding H1\n",
    "\n",
    "def p_value(zscore, region='two-sided'):\n",
    "    \n",
    "    # sf ~ функция выживания = 1 - функция распределения\n",
    "\n",
    "    if region == 'two-sided':\n",
    "        pvalue = stats.norm.sf(np.abs(zscore)) * 2\n",
    "    elif region == 'left':\n",
    "        pvalue = stats.norm.sf(np.abs(zscore))\n",
    "    elif region == 'right':\n",
    "        pvalue = stats.norm.cdf(zscore)\n",
    "    else:\n",
    "        print('Беды с критической областью')\n",
    "    \n",
    "    return pvalue"
   ]
  },
  {
   "cell_type": "markdown",
   "metadata": {},
   "source": [
    "### Парный Z-тест для средних"
   ]
  },
  {
   "cell_type": "markdown",
   "metadata": {},
   "source": [
    "Совершенно не отличается от t-теста Стьюдента, за исключением предположения о знании дисперсий в выборках.\n",
    "\n",
    "В прикладных задачах мы, конечно, не располагаем информацией о типе и параметрах распределений данных, будем оценивать обычным способом."
   ]
  },
  {
   "attachments": {
    "image.png": {
     "image/png": "[encoded data removed]"
    }
   },
   "cell_type": "markdown",
   "metadata": {},
   "source": [
    "![image.png](attachment:image.png)"
   ]
  },
  {
   "cell_type": "markdown",
   "metadata": {},
   "source": [
    "Дисперсии заменим выборочными аналогами, val - предполагаемая разница средних.\n",
    "\n",
    "--------\n",
    "\n",
    "Итак, предположим мы анализируем данные о средней прибыли с клиента до и после введения спецпредложения. Повезло, данные распределены нормально)\n",
    "\n",
    "Руководство знает, что ранее средняя прибыль составляла 400 и расчитывает на обязательный прирост на 10% (уж больно классную акцию они придумали). Переводим на язык статистики -- возросла ли средняя прибыль на val=40 ?"
   ]
  },
  {
   "cell_type": "code",
   "execution_count": 4,
   "metadata": {},
   "outputs": [],
   "source": [
    "a = np.random.normal(400, 60, 1300)\n",
    "b = np.random.normal(450, 80, 1000)\n",
    "\n",
    "val = 40"
   ]
  },
  {
   "cell_type": "code",
   "execution_count": 5,
   "metadata": {},
   "outputs": [
    {
     "data": {
      "text/plain": [
       "(<matplotlib.axes._subplots.AxesSubplot at 0x25c78ccb320>,\n",
       " <matplotlib.axes._subplots.AxesSubplot at 0x25c78ccb320>)"
      ]
     },
     "execution_count": 5,
     "metadata": {},
     "output_type": "execute_result"
    },
    {
     "data": {
      "image/png": "[encoded data removed]",
      "text/plain": [
       "<Figure size 432x288 with 1 Axes>"
      ]
     },
     "metadata": {
      "needs_background": "light"
     },
     "output_type": "display_data"
    }
   ],
   "source": [
    "sns.distplot(a, hist = True), sns.distplot(b, hist = True)"
   ]
  },
  {
   "cell_type": "code",
   "execution_count": 6,
   "metadata": {},
   "outputs": [],
   "source": [
    "def z_score_pair(data_a, data_b, diff):\n",
    "    n_a, n_b = len(data_a), len(data_b)\n",
    "    var_a = np.var(data_a, ddof = 1)\n",
    "    var_b = np.var(data_b, ddof = 1)\n",
    "    se = np.sqrt(var_a / n_a + var_b / n_b)\n",
    "    return (data_b.mean() - data_a.mean() - diff) / se"
   ]
  },
  {
   "cell_type": "code",
   "execution_count": 7,
   "metadata": {
    "scrolled": true
   },
   "outputs": [
    {
     "name": "stdout",
     "output_type": "stream",
     "text": [
      "z_score =  3.146845253261701\n"
     ]
    }
   ],
   "source": [
    "z = z_score_pair(a, b, 40)\n",
    "print('z_score = ', z)"
   ]
  },
  {
   "cell_type": "code",
   "execution_count": 8,
   "metadata": {},
   "outputs": [
    {
     "data": {
      "text/plain": [
       "0.0016504228427385642"
      ]
     },
     "execution_count": 8,
     "metadata": {},
     "output_type": "execute_result"
    }
   ],
   "source": [
    "p_value(z)"
   ]
  },
  {
   "cell_type": "markdown",
   "metadata": {},
   "source": [
    "Для левосторонней критической области гипотезы принимают вид\n",
    "\n",
    "    H1: средняя прибыль во второй выборке значимо меньше, чем прибыль в первой выборке + val\n",
    "    H0: средняя прибыль во второй выборке значимо НЕ меньше, чем прибыль в первой выборке + val\n",
    "    \n",
    "---------------\n",
    "\n",
    "Для правосторонней критической области гипотезы принимают вид\n",
    "\n",
    "    H1: средняя прибыль во второй выборке значимо больше, чем прибыль в первой выборке + val\n",
    "    H0: средняя прибыль во второй выборке значимо НЕ больше, чем прибыль в первой выборке + val"
   ]
  },
  {
   "cell_type": "code",
   "execution_count": 9,
   "metadata": {},
   "outputs": [
    {
     "data": {
      "text/plain": [
       "0.0008252114213692821"
      ]
     },
     "execution_count": 9,
     "metadata": {},
     "output_type": "execute_result"
    }
   ],
   "source": [
    "p_value(z, region='left')"
   ]
  },
  {
   "cell_type": "code",
   "execution_count": 10,
   "metadata": {
    "scrolled": true
   },
   "outputs": [
    {
     "data": {
      "text/plain": [
       "0.9991747885786307"
      ]
     },
     "execution_count": 10,
     "metadata": {},
     "output_type": "execute_result"
    }
   ],
   "source": [
    "p_value(z, region='right')"
   ]
  },
  {
   "cell_type": "markdown",
   "metadata": {},
   "source": [
    "Для уровня значимости `0.01` можем отвергать гипотезы о  строгом равенстве разницы средних значению 40, и о том, что прирост составил менее 40.\n",
    "\n",
    "Не отвергаем (правостороннюю) гипотезу о приросте прибыли более, чем на 10%, можем идти радовать маркетологов)\n",
    "\n",
    "----------\n",
    "\n",
    "Сравним с реализацией из statsmodels:"
   ]
  },
  {
   "cell_type": "code",
   "execution_count": 11,
   "metadata": {
    "scrolled": true
   },
   "outputs": [
    {
     "data": {
      "text/plain": [
       "((3.1468452532617013, 0.0016504228427385605),\n",
       " (3.1468452532617013, 0.0008252114213692802),\n",
       " (3.1468452532617013, 0.9991747885786307))"
      ]
     },
     "execution_count": 11,
     "metadata": {},
     "output_type": "execute_result"
    }
   ],
   "source": [
    "data = CompareMeans(DescrStatsW(b), DescrStatsW(a))\n",
    "\n",
    "data.ztest_ind(value=40, usevar='unequal'), \\\n",
    "data.ztest_ind(alternative='larger', value=40, usevar='unequal'), \\\n",
    "data.ztest_ind(alternative='smaller', value=40, usevar='unequal')"
   ]
  },
  {
   "cell_type": "markdown",
   "metadata": {},
   "source": [
    "Получили те же z-score и p-value, всё ОК)"
   ]
  },
  {
   "cell_type": "markdown",
   "metadata": {},
   "source": [
    "### Z-критерий для пропорций"
   ]
  },
  {
   "cell_type": "markdown",
   "metadata": {},
   "source": [
    "Имеем 2 независимые выборки, элементом является 1 или 0 (успех или неудача). Z-критерий позволяет оценить, равно ли пропорционально число успехов в первой выборке числу успехов во второй.\n",
    "\n",
    "    H0: пропорции одинаковы\n",
    "    H1: пропорции различны"
   ]
  },
  {
   "attachments": {
    "image.png": {
     "image/png": "[encoded data removed]"
    }
   },
   "cell_type": "markdown",
   "metadata": {},
   "source": [
    "![image.png](attachment:image.png)"
   ]
  },
  {
   "cell_type": "markdown",
   "metadata": {},
   "source": [
    "p1, p2 - доля успехов в 1 и 2 выборке соответственно, p - общая доля успехов\n",
    "\n",
    "----------------------------------------------------------------------------\n",
    "\n",
    "Пусть данные для исследования - доля активных покупателей, оставивших отзыв до и после введения какого-нибудь классного спецпредложения...\n",
    "Посмотрим, повлияла ли акционная программа на активность клиентов.\n",
    "\n",
    "Допустим, наши данные загружены в массивы)\n",
    "\n",
    "    1 - отзыв оставлен\n",
    "    0 - клиент бяка)"
   ]
  },
  {
   "cell_type": "code",
   "execution_count": 12,
   "metadata": {},
   "outputs": [],
   "source": [
    "# изначально мы это не знаем)\n",
    "n_a, n_a_success = 713, 202\n",
    "n_b, n_b_success = 505, 169"
   ]
  },
  {
   "cell_type": "code",
   "execution_count": 13,
   "metadata": {},
   "outputs": [],
   "source": [
    "comments_a = np.random.permutation([1] * n_a_success + [0] * (n_a - n_a_success))\n",
    "comments_b = np.random.permutation([1] * n_b_success + [0] * (n_b - n_b_success))"
   ]
  },
  {
   "cell_type": "markdown",
   "metadata": {},
   "source": [
    "*Замечание:*\n",
    "\n",
    "Z-критерий для пропорций в таком виде не приведён в библиотеках типа scipy, statsmodels, что странно, но это совершенно не проблема, значение вычисляется элементарно:"
   ]
  },
  {
   "cell_type": "code",
   "execution_count": 14,
   "metadata": {},
   "outputs": [],
   "source": [
    "def z_score_proportion(data_a, data_b):\n",
    "    n_a = len(data_a)\n",
    "    n_b = len(data_b)\n",
    "    n_a_success = data_a.sum()\n",
    "    n_b_success = data_b.sum()\n",
    "\n",
    "    p_a = n_a_success / n_a\n",
    "    p_b = n_b_success / n_b\n",
    "    p = (n_a_success + n_b_success) / (n_a + n_b)\n",
    "\n",
    "    return (p_b - p_a) / np.sqrt(p * (1-p) * (1/n_a + 1/n_b))"
   ]
  },
  {
   "cell_type": "code",
   "execution_count": 15,
   "metadata": {},
   "outputs": [],
   "source": [
    "z = z_score_proportion(comments_a, comments_b)"
   ]
  },
  {
   "cell_type": "code",
   "execution_count": 16,
   "metadata": {
    "scrolled": true
   },
   "outputs": [
    {
     "data": {
      "text/plain": [
       "0.05509848585290159"
      ]
     },
     "execution_count": 16,
     "metadata": {},
     "output_type": "execute_result"
    }
   ],
   "source": [
    "# двусторонняя гипотеза\n",
    "p_value(z)"
   ]
  },
  {
   "cell_type": "markdown",
   "metadata": {},
   "source": [
    "Для левосторонней критической области гипотезы принимают вид\n",
    "\n",
    "    H1: среднее число успехов во второй группе значимо меньше, чем в первой\n",
    "    H0: среднее число успехов во второй группе значимо НЕ меньше, чем в первой\n",
    "    \n",
    "---------------\n",
    "\n",
    "Для правосторонней критической области гипотезы принимают вид\n",
    "\n",
    "    H1: среднее число успехов во второй группе значимо больше, чем в первой\n",
    "    H0: среднее число успехов во второй группе значимо НЕ больше, чем в первой"
   ]
  },
  {
   "cell_type": "code",
   "execution_count": 17,
   "metadata": {},
   "outputs": [
    {
     "data": {
      "text/plain": [
       "0.027549242926450796"
      ]
     },
     "execution_count": 17,
     "metadata": {},
     "output_type": "execute_result"
    }
   ],
   "source": [
    "p_value(z, region='left')"
   ]
  },
  {
   "cell_type": "code",
   "execution_count": 18,
   "metadata": {
    "scrolled": true
   },
   "outputs": [
    {
     "data": {
      "text/plain": [
       "0.9724507570735492"
      ]
     },
     "execution_count": 18,
     "metadata": {},
     "output_type": "execute_result"
    }
   ],
   "source": [
    "p_value(z, region='right')"
   ]
  },
  {
   "cell_type": "markdown",
   "metadata": {},
   "source": [
    "Таким образом, выбирая уровень значимости `0.05` мы отвергаем левостороннюю гипотезу и НЕ отвергаем правостороннюю. Это совершенно согласуется с реальностью, так как доля успехов во второй выборке побольше, чем в первой.\n",
    "\n",
    "При том же уровне значимости мы также НЕ отвергаем гипотезу о равенстве среднего числа отзывов в двух группах ¯\\\\_(ツ)_/¯. Однако, выбрав уровень значимости, например, `0.1`, мы уже можем отвергать двустороннюю гипотезу     \n",
    "\n",
    "\n",
    "**Вывод:** играемся с уровнем значимости как хотим и делаем удобные для нас выводы))"
   ]
  }
 ],
 "metadata": {
  "kernelspec": {
   "display_name": "Python 3",
   "language": "python",
   "name": "python3"
  },
  "language_info": {
   "codemirror_mode": {
    "name": "ipython",
    "version": 3
   },
   "file_extension": ".py",
   "mimetype": "text/x-python",
   "name": "python",
   "nbconvert_exporter": "python",
   "pygments_lexer": "ipython3",
   "version": "3.7.1"
  }
 },
 "nbformat": 4,
 "nbformat_minor": 2
}
