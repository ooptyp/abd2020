{
 "cells": [
  {
   "cell_type": "markdown",
   "metadata": {},
   "source": [
    "## Домашнее задание №1\n",
    "    Последовательность Фибоначчи определяется так: \n",
    "    φ0 = 0, φ1 = 1, φn = φn−1 + φn−2.\n",
    "    По данному числу n определите n-е число Фибоначчи φn.\n",
    "    Решите задачу циклом for."
   ]
  },
  {
   "cell_type": "code",
   "execution_count": 1,
   "metadata": {},
   "outputs": [],
   "source": [
    "def phi_n(n):\n",
    "    phi = [0, 1]\n",
    "    for i in range(2, n+1):\n",
    "        phi.append(phi[i-1] + phi[i-2])\n",
    "    return phi[n]"
   ]
  },
  {
   "cell_type": "code",
   "execution_count": 40,
   "metadata": {},
   "outputs": [
    {
     "data": {
      "text/plain": [
       "55"
      ]
     },
     "execution_count": 40,
     "metadata": {},
     "output_type": "execute_result"
    }
   ],
   "source": [
    "phi_n(10)"
   ]
  },
  {
   "cell_type": "markdown",
   "metadata": {},
   "source": [
    "## Домашнее задание №2\n",
    "    Реализуйте функцию, которая на вход принимает вектор x, содержащий целые числа, кроме 0, а возвращает вектор \n",
    "    со вставленными нулями между числами.\n",
    "    Например, из [2, -15, 71] получить [2, 0, -15, 0, 71].\n",
    "    Используйте для решения задачи модуль numpy."
   ]
  },
  {
   "cell_type": "code",
   "execution_count": 7,
   "metadata": {},
   "outputs": [],
   "source": [
    "import numpy as np"
   ]
  },
  {
   "cell_type": "code",
   "execution_count": 38,
   "metadata": {},
   "outputs": [],
   "source": [
    "def insert_zeros(arr):\n",
    "    return list(np.array(arr + [0] * len(arr)).reshape(2, len(arr)).transpose().reshape(-1)[:-1])"
   ]
  },
  {
   "cell_type": "code",
   "execution_count": 39,
   "metadata": {},
   "outputs": [
    {
     "data": {
      "text/plain": [
       "[2, 0, -19, 0, 8]"
      ]
     },
     "execution_count": 39,
     "metadata": {},
     "output_type": "execute_result"
    }
   ],
   "source": [
    "insert_zeros([2, -19, 8])"
   ]
  }
 ],
 "metadata": {
  "kernelspec": {
   "display_name": "Python 3",
   "language": "python",
   "name": "python3"
  },
  "language_info": {
   "codemirror_mode": {
    "name": "ipython",
    "version": 3
   },
   "file_extension": ".py",
   "mimetype": "text/x-python",
   "name": "python",
   "nbconvert_exporter": "python",
   "pygments_lexer": "ipython3",
   "version": "3.7.1"
  }
 },
 "nbformat": 4,
 "nbformat_minor": 2
}
